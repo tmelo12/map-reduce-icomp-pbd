{
 "cells": [
  {
   "cell_type": "code",
   "execution_count": 62,
   "id": "e924122f",
   "metadata": {},
   "outputs": [
    {
     "name": "stdout",
     "output_type": "stream",
     "text": [
      "c23e1543df03cd71a20659f9c95dc716\n"
     ]
    }
   ],
   "source": [
    "import hashlib\n",
    "import re\n",
    "h = hashlib.md5()\n",
    "palavra = 'ola jejndsanf'\n",
    "h.update(palavra.encode('utf-8'))\n",
    "print (h.hexdigest())"
   ]
  },
  {
   "cell_type": "code",
   "execution_count": 81,
   "id": "a103933f",
   "metadata": {},
   "outputs": [],
   "source": [
    "dic_word = dict()"
   ]
  },
  {
   "cell_type": "code",
   "execution_count": 82,
   "id": "682e6bbc",
   "metadata": {},
   "outputs": [],
   "source": [
    "h = hashlib.md5()\n",
    "word_to_hash = 'hello'\n",
    "h.update(word_to_hash.encode(\"utf-8\"))"
   ]
  },
  {
   "cell_type": "code",
   "execution_count": 83,
   "id": "50942d99",
   "metadata": {},
   "outputs": [],
   "source": [
    "if h.hexdigest() in dic_word.keys():\n",
    "    dic_word[h.hexdigest()] = dic_word[h.hexdigest()] + 1\n",
    "else:\n",
    "    dic_word[h.hexdigest()] = 0"
   ]
  },
  {
   "cell_type": "code",
   "execution_count": 84,
   "id": "6e46f9b5",
   "metadata": {},
   "outputs": [],
   "source": [
    "h = hashlib.md5()\n",
    "word_to_hash = 'world'\n",
    "h.update(word_to_hash.encode(\"utf-8\"))"
   ]
  },
  {
   "cell_type": "code",
   "execution_count": 85,
   "id": "63ac4cce",
   "metadata": {},
   "outputs": [],
   "source": [
    "if h.hexdigest() in dic_word.keys():\n",
    "    dic_word[h.hexdigest()] = dic_word[h.hexdigest()] + 1\n",
    "else:\n",
    "    dic_word[h.hexdigest()] = 0"
   ]
  },
  {
   "cell_type": "code",
   "execution_count": 86,
   "id": "dcba561b",
   "metadata": {},
   "outputs": [
    {
     "name": "stdout",
     "output_type": "stream",
     "text": [
      "5d41402abc4b2a76b9719d911017c592\t0\n",
      "7d793037a0760186574b0282f2f435e7\t0\n"
     ]
    }
   ],
   "source": [
    "for term in dic_word.keys():\n",
    "    print(\"%s\\t%s\" % (term, dic_word[h.hexdigest()]))"
   ]
  },
  {
   "cell_type": "code",
   "execution_count": null,
   "id": "54466f29",
   "metadata": {},
   "outputs": [],
   "source": []
  },
  {
   "cell_type": "code",
   "execution_count": null,
   "id": "c855b389",
   "metadata": {},
   "outputs": [],
   "source": []
  },
  {
   "cell_type": "code",
   "execution_count": 89,
   "id": "c6e7885e",
   "metadata": {},
   "outputs": [],
   "source": [
    "#function to read a file\n",
    "def readFile(path):\n",
    "    fileRead = open(path)\n",
    "    return fileRead"
   ]
  },
  {
   "cell_type": "code",
   "execution_count": 98,
   "id": "af582411",
   "metadata": {},
   "outputs": [],
   "source": []
  },
  {
   "cell_type": "code",
   "execution_count": 111,
   "id": "a9dc91ee",
   "metadata": {},
   "outputs": [],
   "source": [
    "import re\n",
    "myFile = readFile('./part-00000')\n",
    "count_words = 0\n",
    "for line in myFile:\n",
    "    #each line is a different word\n",
    "    count_words+=1"
   ]
  },
  {
   "cell_type": "code",
   "execution_count": 112,
   "id": "e4874c90",
   "metadata": {},
   "outputs": [
    {
     "data": {
      "text/plain": [
       "3734"
      ]
     },
     "execution_count": 112,
     "metadata": {},
     "output_type": "execute_result"
    }
   ],
   "source": [
    "count_words"
   ]
  },
  {
   "cell_type": "code",
   "execution_count": 115,
   "id": "dd0f204b",
   "metadata": {},
   "outputs": [
    {
     "name": "stdout",
     "output_type": "stream",
     "text": [
      "zealous\t1\n",
      "\n"
     ]
    }
   ],
   "source": [
    "print(line)"
   ]
  },
  {
   "cell_type": "code",
   "execution_count": 150,
   "id": "e8226881",
   "metadata": {},
   "outputs": [
    {
     "name": "stdout",
     "output_type": "stream",
     "text": [
      "Top 10 palavras que mais ocorrem na coleção shakespeare: \n",
      "\n",
      "1  - Palavra: thy com  281 repeticoes.\n",
      "2  - Palavra: thou com  234 repeticoes.\n",
      "3  - Palavra: love com  162 repeticoes.\n",
      "4  - Palavra: thee com  161 repeticoes.\n",
      "5  - Palavra: doth com  88 repeticoes.\n",
      "6  - Palavra: project com  87 repeticoes.\n",
      "7  - Palavra: mine com  63 repeticoes.\n",
      "8  - Palavra: shall com  61 repeticoes.\n",
      "9  - Palavra: eyes com  56 repeticoes.\n",
      "10  - Palavra: gutenbergtm com  56 repeticoes.\n"
     ]
    }
   ],
   "source": [
    "myFile = readFile('./part-00000')\n",
    "\n",
    "#top10 words\n",
    "top10 = dict()\n",
    "for line in myFile:\n",
    "    #split line to create dict(word, n_occurrences)\n",
    "    top10[line.split()[0]] = line.split()[1]\n",
    "    \n",
    "#now to access = dict[word]\n",
    "#order dict by value (n_occurrences)\n",
    "top10 = sorted(top10.items(), key=lambda item: int(item[1]), reverse=True)\n",
    "\n",
    "#interate in top10 words\n",
    "position = 1\n",
    "print('Top 10 palavras que mais ocorrem na coleção shakespeare: \\n')\n",
    "for item in top10:\n",
    "    if(position<=10):\n",
    "        print(position, ' - Palavra:', item[0],'com ', item[1], 'repeticoes.' )\n",
    "    else:\n",
    "        break\n",
    "    position+=1 "
   ]
  },
  {
   "cell_type": "code",
   "execution_count": 144,
   "id": "49a2f6b9",
   "metadata": {},
   "outputs": [
    {
     "name": "stdout",
     "output_type": "stream",
     "text": [
      "1\n",
      "10\n",
      "1041\n",
      "1041txt\n",
      "1041zip\n",
      "1500\n",
      "1997\n",
      "1a\n",
      "1b\n",
      "1c\n"
     ]
    }
   ],
   "source": []
  },
  {
   "cell_type": "code",
   "execution_count": 179,
   "id": "ea6c2407",
   "metadata": {},
   "outputs": [],
   "source": [
    "import re\n",
    "\n",
    "# Thiago Braga de Melo\n",
    "# UFAM - Universidade Federal do Amazonas\n",
    "# ICOMP - Instituto de Computação\n",
    "# Prática em Banco de Dados - 2022\n",
    "def read_file(path):\n",
    "    file_read = open(path)\n",
    "    return file_read\n",
    "\n",
    "\n",
    "class Collection:\n",
    "    def __init__(self, path):\n",
    "        self.total_words = 0  # type: ignore\n",
    "        self.top10 = dict()\n",
    "        self.path = path\n",
    "\n",
    "    def total_words_v2(self):\n",
    "        count_words_v2 = 0\n",
    "        my_file = read_file(self.path)\n",
    "        for line in my_file:\n",
    "            # each line is a different word\n",
    "            count_words_v2 += 1\n",
    "\n",
    "        print(\n",
    "            \"Total de palavras diferentes na Versão 2 do contador de palavras:\",\n",
    "            count_words_v2,\n",
    "        )\n",
    "\n",
    "    def top10_words_v2(self):\n",
    "        my_file = read_file(self.path)\n",
    "        for line in my_file:\n",
    "            # split line to create dict(word, n_occurrences)\n",
    "            self.top10[line.split()[0]] = line.split()[1]\n",
    "\n",
    "        # now to access = dict[word]\n",
    "        # order dict by value (n_occurrences)\n",
    "        top10_sorted = sorted(\n",
    "            self.top10.items(), key=lambda item: int(item[1]), reverse=True\n",
    "        )\n",
    "\n",
    "        # interate in top10 words\n",
    "        position = 1\n",
    "        print(\"Top 10 palavras que mais ocorrem na coleção: \\n\")\n",
    "        for item in top10_sorted:\n",
    "            if position <= 10:\n",
    "                print(position, \" - Palavra:\", item[0], \"com \", item[1], \"repeticoes.\")\n",
    "            else:\n",
    "                break\n",
    "            position += 1\n"
   ]
  },
  {
   "cell_type": "code",
   "execution_count": 180,
   "id": "1a92426b",
   "metadata": {},
   "outputs": [],
   "source": [
    "my_collection = Collection(\"./part-00000\")"
   ]
  },
  {
   "cell_type": "code",
   "execution_count": 181,
   "id": "78de2619",
   "metadata": {},
   "outputs": [
    {
     "name": "stdout",
     "output_type": "stream",
     "text": [
      "Total de palavras diferentes na Versão 2 do contador de palavras: 3734\n"
     ]
    }
   ],
   "source": [
    "my_collection.total_words_v2()\n"
   ]
  },
  {
   "cell_type": "code",
   "execution_count": 182,
   "id": "f4c470d1",
   "metadata": {},
   "outputs": [
    {
     "name": "stdout",
     "output_type": "stream",
     "text": [
      "Top 10 palavras que mais ocorrem na coleção: \n",
      "\n",
      "1  - Palavra: thy com  281 repeticoes.\n",
      "2  - Palavra: thou com  234 repeticoes.\n",
      "3  - Palavra: love com  162 repeticoes.\n",
      "4  - Palavra: thee com  161 repeticoes.\n",
      "5  - Palavra: doth com  88 repeticoes.\n",
      "6  - Palavra: project com  87 repeticoes.\n",
      "7  - Palavra: mine com  63 repeticoes.\n",
      "8  - Palavra: shall com  61 repeticoes.\n",
      "9  - Palavra: eyes com  56 repeticoes.\n",
      "10  - Palavra: gutenbergtm com  56 repeticoes.\n"
     ]
    }
   ],
   "source": [
    "my_collection.top10_words_v2()"
   ]
  },
  {
   "cell_type": "code",
   "execution_count": null,
   "id": "2b0693c8",
   "metadata": {},
   "outputs": [],
   "source": []
  }
 ],
 "metadata": {
  "kernelspec": {
   "display_name": "Python 3 (ipykernel)",
   "language": "python",
   "name": "python3"
  },
  "language_info": {
   "codemirror_mode": {
    "name": "ipython",
    "version": 3
   },
   "file_extension": ".py",
   "mimetype": "text/x-python",
   "name": "python",
   "nbconvert_exporter": "python",
   "pygments_lexer": "ipython3",
   "version": "3.11.0"
  }
 },
 "nbformat": 4,
 "nbformat_minor": 5
}
